{
 "cells": [
  {
   "metadata": {},
   "cell_type": "markdown",
   "source": [
    "# Applying 25 Years of Engineering Thinking to Fintech and Quantitative Modeling\n",
    "\n",
    "## 🏗️ From Infrastructure to Insight\n",
    "\n",
    "After 25 years in civil engineering — designing, managing, and delivering infrastructure projects — I’ve come to appreciate the parallels between **building physical systems** and **modeling financial ones**.\n",
    "\n",
    "Civil engineering taught me structure, discipline, risk assessment, and systems thinking — skills that translate remarkably well into **financial engineering and data science**.\n",
    "\n",
    "## 💡 Discovering the Quantitative World\n",
    "\n",
    "My journey into fintech began out of curiosity. I started teaching myself Python and experimenting with small automation scripts and data analysis projects. That curiosity quickly grew into a deeper passion for building software and understanding systems.\n",
    "\n",
    "To sharpen my skills and gain structure, I enrolled in a software engineering bootcamp — a rigorous, project-based program focused on full-stack development. I just submitted my final capstone project and expect to receive my certification within the next week.\n",
    "\n",
    "Between self-study, formal training, and a growing fascination with financial data and models, I realized I wanted to bring my engineering mindset into the world of quantitative finance.\n",
    "\n",
    "I started exploring financial datasets and revisiting core math topics like linear algebra, probability, and stochastic calculus. I quickly found myself immersed in the intersection of **data, theory, and markets**.\n",
    "\n",
    "With an MBA in hand and a deep respect for modeling and analysis, I began seriously exploring:\n",
    "- Quantitative finance\n",
    "- Algorithmic trading strategies\n",
    "- Financial theory and data-driven investing\n",
    "- The math that powers it all\n",
    "\n",
    "## 🧪 What I’m Working On Now\n",
    "\n",
    "I'm currently focused on learning and building in public. That includes:\n",
    "- Studying **financial theory**, **linear algebra**, and **stochastic calculus**\n",
    "- Building and testing trading strategies with Python\n",
    "- Creating math notebooks in Jupyter to deepen my understanding\n",
    "- Documenting my journey right here on this blog\n",
    "\n",
    "## 📚 The Quant Shift\n",
    "\n",
    "This blog — **The Quant Shift** — will be my place to share what I’m learning and building. You can expect:\n",
    "- Step-by-step explanations of quant concepts\n",
    "- Python code, Jupyter notebooks, and financial data visualizations\n",
    "- Reflections on learning how to think like a quant from a systems engineering perspective\n",
    "\n",
    "## 🔗 Code + Notebooks\n",
    "\n",
    "I'll be linking to full code and notebooks on GitHub as I go. You can find them here:\n",
    "👉 [github.com/quantshift-lab](https://github.com/quantshift-lab)\n",
    "\n",
    "## 🤝 Let’s Connect\n",
    "\n",
    "If you’re learning, building, or curious about the quant/data/fintech world — let’s connect.\n",
    "You can follow me here on Medium or find me on GitHub at [@bnelsonemail](https://github.com/bnelsonemail).\n",
    "\n",
    "---\n",
    "\n",
    "🧠 *Thanks for reading — more posts coming soon in the Pencils & Python series!*\n",
    "\n"
   ],
   "id": "95cc84fbb3863dce"
  },
  {
   "metadata": {},
   "cell_type": "code",
   "outputs": [],
   "execution_count": null,
   "source": "",
   "id": "b1f00641225832f6"
  }
 ],
 "metadata": {
  "kernelspec": {
   "display_name": "Python 3",
   "language": "python",
   "name": "python3"
  },
  "language_info": {
   "codemirror_mode": {
    "name": "ipython",
    "version": 2
   },
   "file_extension": ".py",
   "mimetype": "text/x-python",
   "name": "python",
   "nbconvert_exporter": "python",
   "pygments_lexer": "ipython2",
   "version": "2.7.6"
  }
 },
 "nbformat": 4,
 "nbformat_minor": 5
}
